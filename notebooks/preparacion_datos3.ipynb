{
  "cells": [
    {
      "cell_type": "markdown",
      "source": [
        "# Clase 6: Feature Engineering\n",
        "## DP-100 Azure Data Sienctist\n",
        "## Dataset Utilizado: Hotel Booking\n",
        "https://www.kaggle.com/datasets/mojtaba142/hotel-booking/data"
      ],
      "metadata": {
        "nteract": {
          "transient": {
            "deleting": false
          }
        }
      }
    },
    {
      "cell_type": "code",
      "source": [
        "import pandas as pd\n",
        "import numpy as np\n",
        "import matplotlib.pyplot as plt\n",
        "import seaborn as sns\n",
        "from azure.ai.ml import MLClient\n",
        "from azure.identity import DefaultAzureCredential\n",
        "from sklearn.feature_selection import VarianceThreshold\n",
        "from sklearn.preprocessing import OneHotEncoder\n",
        "from sklearn.feature_extraction import FeatureHasher\n",
        "\n",
        "sns.set_style(\"whitegrid\")\n",
        "\n",
        "# CREDENCIALES AZURE\n",
        "ml_client = MLClient.from_config(credential=DefaultAzureCredential())\n",
        "# METADATA ASSET\n",
        "data_asset = ml_client.data.get(\"booking-dsrp\", version=\"1\")"
      ],
      "outputs": [
        {
          "output_type": "stream",
          "name": "stderr",
          "text": "Found the config file in: /config.json\n"
        }
      ],
      "execution_count": 1,
      "metadata": {
        "jupyter": {
          "source_hidden": false,
          "outputs_hidden": false
        },
        "nteract": {
          "transient": {
            "deleting": false
          }
        },
        "gather": {
          "logged": 1727130565307
        }
      }
    },
    {
      "cell_type": "code",
      "source": [
        "reservas_hotel_raw = pd.read_csv(data_asset.path)\n",
        "reservas_hotel_raw.head(3)"
      ],
      "outputs": [
        {
          "output_type": "execute_result",
          "execution_count": 2,
          "data": {
            "text/plain": "          hotel  is_canceled  lead_time  arrival_date_year arrival_date_month  \\\n0  Resort Hotel            0        342               2015               July   \n1  Resort Hotel            0        737               2015               July   \n2  Resort Hotel            0          7               2015               July   \n\n   arrival_date_week_number  arrival_date_day_of_month  \\\n0                        27                          1   \n1                        27                          1   \n2                        27                          1   \n\n   stays_in_weekend_nights  stays_in_week_nights  adults  ...  customer_type  \\\n0                        0                     0       2  ...      Transient   \n1                        0                     0       2  ...      Transient   \n2                        0                     1       1  ...      Transient   \n\n    adr required_car_parking_spaces total_of_special_requests  \\\n0   0.0                           0                         0   \n1   0.0                           0                         0   \n2  75.0                           0                         0   \n\n  reservation_status reservation_status_date            name  \\\n0          Check-Out              2015-07-01   Ernest Barnes   \n1          Check-Out              2015-07-01    Andrea Baker   \n2          Check-Out              2015-07-02  Rebecca Parker   \n\n                         email  phone-number       credit_card  \n0  Ernest.Barnes31@outlook.com  669-792-1661  ************4322  \n1       Andrea_Baker94@aol.com  858-637-6955  ************9157  \n2   Rebecca_Parker@comcast.net  652-885-2745  ************3734  \n\n[3 rows x 36 columns]",
            "text/html": "<div>\n<style scoped>\n    .dataframe tbody tr th:only-of-type {\n        vertical-align: middle;\n    }\n\n    .dataframe tbody tr th {\n        vertical-align: top;\n    }\n\n    .dataframe thead th {\n        text-align: right;\n    }\n</style>\n<table border=\"1\" class=\"dataframe\">\n  <thead>\n    <tr style=\"text-align: right;\">\n      <th></th>\n      <th>hotel</th>\n      <th>is_canceled</th>\n      <th>lead_time</th>\n      <th>arrival_date_year</th>\n      <th>arrival_date_month</th>\n      <th>arrival_date_week_number</th>\n      <th>arrival_date_day_of_month</th>\n      <th>stays_in_weekend_nights</th>\n      <th>stays_in_week_nights</th>\n      <th>adults</th>\n      <th>...</th>\n      <th>customer_type</th>\n      <th>adr</th>\n      <th>required_car_parking_spaces</th>\n      <th>total_of_special_requests</th>\n      <th>reservation_status</th>\n      <th>reservation_status_date</th>\n      <th>name</th>\n      <th>email</th>\n      <th>phone-number</th>\n      <th>credit_card</th>\n    </tr>\n  </thead>\n  <tbody>\n    <tr>\n      <th>0</th>\n      <td>Resort Hotel</td>\n      <td>0</td>\n      <td>342</td>\n      <td>2015</td>\n      <td>July</td>\n      <td>27</td>\n      <td>1</td>\n      <td>0</td>\n      <td>0</td>\n      <td>2</td>\n      <td>...</td>\n      <td>Transient</td>\n      <td>0.0</td>\n      <td>0</td>\n      <td>0</td>\n      <td>Check-Out</td>\n      <td>2015-07-01</td>\n      <td>Ernest Barnes</td>\n      <td>Ernest.Barnes31@outlook.com</td>\n      <td>669-792-1661</td>\n      <td>************4322</td>\n    </tr>\n    <tr>\n      <th>1</th>\n      <td>Resort Hotel</td>\n      <td>0</td>\n      <td>737</td>\n      <td>2015</td>\n      <td>July</td>\n      <td>27</td>\n      <td>1</td>\n      <td>0</td>\n      <td>0</td>\n      <td>2</td>\n      <td>...</td>\n      <td>Transient</td>\n      <td>0.0</td>\n      <td>0</td>\n      <td>0</td>\n      <td>Check-Out</td>\n      <td>2015-07-01</td>\n      <td>Andrea Baker</td>\n      <td>Andrea_Baker94@aol.com</td>\n      <td>858-637-6955</td>\n      <td>************9157</td>\n    </tr>\n    <tr>\n      <th>2</th>\n      <td>Resort Hotel</td>\n      <td>0</td>\n      <td>7</td>\n      <td>2015</td>\n      <td>July</td>\n      <td>27</td>\n      <td>1</td>\n      <td>0</td>\n      <td>1</td>\n      <td>1</td>\n      <td>...</td>\n      <td>Transient</td>\n      <td>75.0</td>\n      <td>0</td>\n      <td>0</td>\n      <td>Check-Out</td>\n      <td>2015-07-02</td>\n      <td>Rebecca Parker</td>\n      <td>Rebecca_Parker@comcast.net</td>\n      <td>652-885-2745</td>\n      <td>************3734</td>\n    </tr>\n  </tbody>\n</table>\n<p>3 rows × 36 columns</p>\n</div>"
          },
          "metadata": {}
        }
      ],
      "execution_count": 2,
      "metadata": {
        "jupyter": {
          "source_hidden": false,
          "outputs_hidden": false
        },
        "nteract": {
          "transient": {
            "deleting": false
          }
        },
        "gather": {
          "logged": 1727130573886
        }
      }
    },
    {
      "cell_type": "code",
      "source": [
        "reservas_hotel_raw.info()"
      ],
      "outputs": [
        {
          "output_type": "stream",
          "name": "stdout",
          "text": "<class 'pandas.core.frame.DataFrame'>\nRangeIndex: 119390 entries, 0 to 119389\nData columns (total 36 columns):\n #   Column                          Non-Null Count   Dtype  \n---  ------                          --------------   -----  \n 0   hotel                           119390 non-null  object \n 1   is_canceled                     119390 non-null  int64  \n 2   lead_time                       119390 non-null  int64  \n 3   arrival_date_year               119390 non-null  int64  \n 4   arrival_date_month              119390 non-null  object \n 5   arrival_date_week_number        119390 non-null  int64  \n 6   arrival_date_day_of_month       119390 non-null  int64  \n 7   stays_in_weekend_nights         119390 non-null  int64  \n 8   stays_in_week_nights            119390 non-null  int64  \n 9   adults                          119390 non-null  int64  \n 10  children                        119386 non-null  float64\n 11  babies                          119390 non-null  int64  \n 12  meal                            119390 non-null  object \n 13  country                         118902 non-null  object \n 14  market_segment                  119390 non-null  object \n 15  distribution_channel            119390 non-null  object \n 16  is_repeated_guest               119390 non-null  int64  \n 17  previous_cancellations          119390 non-null  int64  \n 18  previous_bookings_not_canceled  119390 non-null  int64  \n 19  reserved_room_type              119390 non-null  object \n 20  assigned_room_type              119390 non-null  object \n 21  booking_changes                 119390 non-null  int64  \n 22  deposit_type                    119390 non-null  object \n 23  agent                           103050 non-null  float64\n 24  company                         6797 non-null    float64\n 25  days_in_waiting_list            119390 non-null  int64  \n 26  customer_type                   119390 non-null  object \n 27  adr                             119390 non-null  float64\n 28  required_car_parking_spaces     119390 non-null  int64  \n 29  total_of_special_requests       119390 non-null  int64  \n 30  reservation_status              119390 non-null  object \n 31  reservation_status_date         119390 non-null  object \n 32  name                            119390 non-null  object \n 33  email                           119390 non-null  object \n 34  phone-number                    119390 non-null  object \n 35  credit_card                     119390 non-null  object \ndtypes: float64(4), int64(16), object(16)\nmemory usage: 32.8+ MB\n"
        }
      ],
      "execution_count": 9,
      "metadata": {
        "jupyter": {
          "source_hidden": false,
          "outputs_hidden": false
        },
        "nteract": {
          "transient": {
            "deleting": false
          }
        },
        "gather": {
          "logged": 1727122110816
        }
      }
    },
    {
      "cell_type": "code",
      "source": [
        "reservas_hotel_raw.hotel.value_counts()"
      ],
      "outputs": [
        {
          "output_type": "execute_result",
          "execution_count": 10,
          "data": {
            "text/plain": "City Hotel      79330\nResort Hotel    40060\nName: hotel, dtype: int64"
          },
          "metadata": {}
        }
      ],
      "execution_count": 10,
      "metadata": {
        "jupyter": {
          "source_hidden": false,
          "outputs_hidden": false
        },
        "nteract": {
          "transient": {
            "deleting": false
          }
        },
        "gather": {
          "logged": 1727122128871
        }
      }
    },
    {
      "cell_type": "code",
      "source": [
        "# ANALISIS DE LOS CLIENTES NUEVOS EN SU ADR\n",
        "# ADR: https://www.investopedia.com/terms/a/average-daily-rate.asp#:~:text=The%20average%20daily%20rate%20(ADR)%20is%20a%20metric%20widely%20used,(KPI)%20of%20the%20industry.\n",
        "reservas_hotel_raw[reservas_hotel_raw[\"is_repeated_guest\"]==0].groupby(\"is_canceled\").agg({\"adr\": [np.mean, np.min, np.max]})"
      ],
      "outputs": [
        {
          "output_type": "execute_result",
          "execution_count": 6,
          "data": {
            "text/plain": "                    adr             \n                   mean  min     max\nis_canceled                         \n0            101.670375  0.0   510.0\n1            105.357324  0.0  5400.0",
            "text/html": "<div>\n<style scoped>\n    .dataframe tbody tr th:only-of-type {\n        vertical-align: middle;\n    }\n\n    .dataframe tbody tr th {\n        vertical-align: top;\n    }\n\n    .dataframe thead tr th {\n        text-align: left;\n    }\n\n    .dataframe thead tr:last-of-type th {\n        text-align: right;\n    }\n</style>\n<table border=\"1\" class=\"dataframe\">\n  <thead>\n    <tr>\n      <th></th>\n      <th colspan=\"3\" halign=\"left\">adr</th>\n    </tr>\n    <tr>\n      <th></th>\n      <th>mean</th>\n      <th>min</th>\n      <th>max</th>\n    </tr>\n    <tr>\n      <th>is_canceled</th>\n      <th></th>\n      <th></th>\n      <th></th>\n    </tr>\n  </thead>\n  <tbody>\n    <tr>\n      <th>0</th>\n      <td>101.670375</td>\n      <td>0.0</td>\n      <td>510.0</td>\n    </tr>\n    <tr>\n      <th>1</th>\n      <td>105.357324</td>\n      <td>0.0</td>\n      <td>5400.0</td>\n    </tr>\n  </tbody>\n</table>\n</div>"
          },
          "metadata": {}
        }
      ],
      "execution_count": 6,
      "metadata": {
        "jupyter": {
          "source_hidden": false,
          "outputs_hidden": false
        },
        "nteract": {
          "transient": {
            "deleting": false
          }
        },
        "gather": {
          "logged": 1727121863334
        }
      }
    },
    {
      "cell_type": "code",
      "source": [
        "sns.displot(data=reservas_hotel_raw, x=\"adr\", col=\"is_canceled\")"
      ],
      "outputs": [
        {
          "output_type": "execute_result",
          "execution_count": 8,
          "data": {
            "text/plain": "<seaborn.axisgrid.FacetGrid at 0x7fefd80baf10>"
          },
          "metadata": {}
        },
        {
          "output_type": "display_data",
          "data": {
            "text/plain": "<Figure size 1000x500 with 2 Axes>",
            "image/png": "[encoded data removed]"
          },
          "metadata": {}
        }
      ],
      "execution_count": 8,
      "metadata": {
        "jupyter": {
          "source_hidden": false,
          "outputs_hidden": false
        },
        "nteract": {
          "transient": {
            "deleting": false
          }
        },
        "gather": {
          "logged": 1727121899335
        }
      }
    },
    {
      "cell_type": "code",
      "source": [
        "sns.displot(reservas_hotel_raw, x='arrival_date_week_number', hue='is_canceled')"
      ],
      "outputs": [
        {
          "output_type": "execute_result",
          "execution_count": 23,
          "data": {
            "text/plain": "<seaborn.axisgrid.FacetGrid at 0x7f47b5ad3cd0>"
          },
          "metadata": {}
        },
        {
          "output_type": "display_data",
          "data": {
            "text/plain": "<Figure size 591.486x500 with 1 Axes>",
            "image/png": "[encoded data removed]"
          },
          "metadata": {}
        }
      ],
      "execution_count": 23,
      "metadata": {
        "jupyter": {
          "source_hidden": false,
          "outputs_hidden": false
        },
        "nteract": {
          "transient": {
            "deleting": false
          }
        },
        "gather": {
          "logged": 1727126723575
        }
      }
    },
    {
      "cell_type": "markdown",
      "source": [
        "## Pipeline de procesamiento"
      ],
      "metadata": {
        "nteract": {
          "transient": {
            "deleting": false
          }
        }
      }
    },
    {
      "cell_type": "code",
      "source": [
        "encoder = OneHotEncoder()\n",
        "year_encoder = encoder.fit(reservas_hotel_raw[['arrival_date_year']])\n",
        "_encoded_years = year_encoder.transform(reservas_hotel_raw[['arrival_date_year']]).toarray()\n",
        "\n",
        "pd.DataFrame(_encoded_years, columns = year_encoder.get_feature_names_out())"
      ],
      "outputs": [
        {
          "output_type": "execute_result",
          "execution_count": 10,
          "data": {
            "text/plain": "        arrival_date_year_2015  arrival_date_year_2016  arrival_date_year_2017\n0                          1.0                     0.0                     0.0\n1                          1.0                     0.0                     0.0\n2                          1.0                     0.0                     0.0\n3                          1.0                     0.0                     0.0\n4                          1.0                     0.0                     0.0\n...                        ...                     ...                     ...\n119385                     0.0                     0.0                     1.0\n119386                     0.0                     0.0                     1.0\n119387                     0.0                     0.0                     1.0\n119388                     0.0                     0.0                     1.0\n119389                     0.0                     0.0                     1.0\n\n[119390 rows x 3 columns]",
            "text/html": "<div>\n<style scoped>\n    .dataframe tbody tr th:only-of-type {\n        vertical-align: middle;\n    }\n\n    .dataframe tbody tr th {\n        vertical-align: top;\n    }\n\n    .dataframe thead th {\n        text-align: right;\n    }\n</style>\n<table border=\"1\" class=\"dataframe\">\n  <thead>\n    <tr style=\"text-align: right;\">\n      <th></th>\n      <th>arrival_date_year_2015</th>\n      <th>arrival_date_year_2016</th>\n      <th>arrival_date_year_2017</th>\n    </tr>\n  </thead>\n  <tbody>\n    <tr>\n      <th>0</th>\n      <td>1.0</td>\n      <td>0.0</td>\n      <td>0.0</td>\n    </tr>\n    <tr>\n      <th>1</th>\n      <td>1.0</td>\n      <td>0.0</td>\n      <td>0.0</td>\n    </tr>\n    <tr>\n      <th>2</th>\n      <td>1.0</td>\n      <td>0.0</td>\n      <td>0.0</td>\n    </tr>\n    <tr>\n      <th>3</th>\n      <td>1.0</td>\n      <td>0.0</td>\n      <td>0.0</td>\n    </tr>\n    <tr>\n      <th>4</th>\n      <td>1.0</td>\n      <td>0.0</td>\n      <td>0.0</td>\n    </tr>\n    <tr>\n      <th>...</th>\n      <td>...</td>\n      <td>...</td>\n      <td>...</td>\n    </tr>\n    <tr>\n      <th>119385</th>\n      <td>0.0</td>\n      <td>0.0</td>\n      <td>1.0</td>\n    </tr>\n    <tr>\n      <th>119386</th>\n      <td>0.0</td>\n      <td>0.0</td>\n      <td>1.0</td>\n    </tr>\n    <tr>\n      <th>119387</th>\n      <td>0.0</td>\n      <td>0.0</td>\n      <td>1.0</td>\n    </tr>\n    <tr>\n      <th>119388</th>\n      <td>0.0</td>\n      <td>0.0</td>\n      <td>1.0</td>\n    </tr>\n    <tr>\n      <th>119389</th>\n      <td>0.0</td>\n      <td>0.0</td>\n      <td>1.0</td>\n    </tr>\n  </tbody>\n</table>\n<p>119390 rows × 3 columns</p>\n</div>"
          },
          "metadata": {}
        }
      ],
      "execution_count": 10,
      "metadata": {
        "jupyter": {
          "source_hidden": false,
          "outputs_hidden": false
        },
        "nteract": {
          "transient": {
            "deleting": false
          }
        },
        "gather": {
          "logged": 1727125124266
        }
      }
    },
    {
      "cell_type": "code",
      "source": [
        "from typing import List, Union\n",
        "\n",
        "class DataProcessor:\n",
        "    '''\n",
        "    Preprocesamiento de datos de hotel\n",
        "    '''\n",
        "\n",
        "    def __init__(self, data: pd.DataFrame):\n",
        "        self.data = data\n",
        "\n",
        "    def __encode_with_ohe(self, col_names: Union[str, List[str]]):\n",
        "        '''\n",
        "        One hot encoding de cualquier columna\n",
        "        '''\n",
        "        encoded_dfs = []\n",
        "        for col in col_names:\n",
        "\n",
        "            encoder = OneHotEncoder()\n",
        "            fitted_encoder = encoder.fit(self.data[[col]])\n",
        "            encoded_array = fitted_encoder.transform(self.data[[col]]).toarray()\n",
        "            encoded_df = pd.DataFrame(encoded_array, columns= fitted_encoder.get_feature_names_out())\n",
        "            encoded_dfs.append(encoded_df)\n",
        "\n",
        "        return pd.concat(encoded_dfs, axis=1)\n",
        "\n",
        "\n",
        "    def process(self):\n",
        "        '''\n",
        "        Procesamiento principal\n",
        "        '''\n",
        "\n",
        "        # el hotel esta en la ciudad\n",
        "        self.data['is_city_hotel'] = np.where(self.data['hotel']=='City Hotel',1,0)\n",
        "        self.data = self.data.drop('hotel', axis=1)\n",
        "\n",
        "        # CREAR DIFERENCIA ENTRE CUARTO RESERVADO Y CUARTO ASIGNADO\n",
        "        self.data[\"diff_room\"] = np.where(self.data[\"assigned_room_type\"] == self.data[\"reserved_room_type\"], 1, 0)\n",
        "\n",
        "        # LISTA DE COLUMNAS PARA HACER ONE HOT ENCODDING \n",
        "        ohe_column_list = [\n",
        "            \"arrival_date_year\", \n",
        "            \"arrival_date_month\",\n",
        "            \"meal\",\n",
        "            \"market_segment\",\n",
        "            \"distribution_channel\", \n",
        "            \"reserved_room_type\",\n",
        "            \"deposit_type\",\n",
        "            \"customer_type\"\n",
        "        ]\n",
        "\n",
        "        encoded_dfs = self.__encode_with_ohe(col_names=ohe_column_list)\n",
        "        self.data = pd.concat([self.data, encoded_dfs], axis=1)\n",
        "        self.data = self.data.drop(ohe_column_list, axis=1)\n",
        "\n",
        "        # IMPUTACION VARIABLE CHILDREN\n",
        "        self.data['children'] = self.data['children'].fillna(0)\n",
        "\n",
        "\n",
        "        # COLUMNAS QUE VAMOS A ELIMINAR\n",
        "        drop_list = [\n",
        "            \"country\", \n",
        "            \"company\", \n",
        "            \"agent\",\n",
        "            \"reservation_status\", \n",
        "            \"reservation_status_date\",\n",
        "            \"name\", \n",
        "            \"email\", \n",
        "            \"phone-number\", \n",
        "            \"credit_card\",\n",
        "            \"assigned_room_type\"\n",
        "        ]\n",
        "\n",
        "        self.data = self.data.drop(drop_list, axis=1)\n",
        "\n",
        "        # FEATURE SELECTOR - VARIANZA\n",
        "        selector = VarianceThreshold()\n",
        "        selected_variables = selector.fit_transform(self.data)\n",
        "\n",
        "        print([ i for i in self.data.columns  if i not in selector.get_feature_names_out() ] )\n",
        "        self.data = pd.DataFrame(selected_variables, columns=selector.get_feature_names_out())"
      ],
      "outputs": [],
      "execution_count": 5,
      "metadata": {
        "jupyter": {
          "source_hidden": false,
          "outputs_hidden": false
        },
        "nteract": {
          "transient": {
            "deleting": false
          }
        },
        "gather": {
          "logged": 1727130635868
        }
      }
    },
    {
      "cell_type": "code",
      "source": [
        "processor = DataProcessor(data=reservas_hotel_raw)\n",
        "processor.process()"
      ],
      "outputs": [
        {
          "output_type": "stream",
          "name": "stdout",
          "text": "[]\n"
        }
      ],
      "execution_count": 6,
      "metadata": {
        "jupyter": {
          "source_hidden": false,
          "outputs_hidden": false
        },
        "nteract": {
          "transient": {
            "deleting": false
          }
        },
        "gather": {
          "logged": 1727130639330
        }
      }
    },
    {
      "cell_type": "code",
      "source": [
        "processor.data.tail()"
      ],
      "outputs": [
        {
          "output_type": "execute_result",
          "execution_count": 7,
          "data": {
            "text/plain": "        is_canceled  lead_time  arrival_date_week_number  \\\n119385          0.0       23.0                      35.0   \n119386          0.0      102.0                      35.0   \n119387          0.0       34.0                      35.0   \n119388          0.0      109.0                      35.0   \n119389          0.0      205.0                      35.0   \n\n        arrival_date_day_of_month  stays_in_weekend_nights  \\\n119385                       30.0                      2.0   \n119386                       31.0                      2.0   \n119387                       31.0                      2.0   \n119388                       31.0                      2.0   \n119389                       29.0                      2.0   \n\n        stays_in_week_nights  adults  children  babies  is_repeated_guest  \\\n119385                   5.0     2.0       0.0     0.0                0.0   \n119386                   5.0     3.0       0.0     0.0                0.0   \n119387                   5.0     2.0       0.0     0.0                0.0   \n119388                   5.0     2.0       0.0     0.0                0.0   \n119389                   7.0     2.0       0.0     0.0                0.0   \n\n        ...  reserved_room_type_H  reserved_room_type_L  reserved_room_type_P  \\\n119385  ...                   0.0                   0.0                   0.0   \n119386  ...                   0.0                   0.0                   0.0   \n119387  ...                   0.0                   0.0                   0.0   \n119388  ...                   0.0                   0.0                   0.0   \n119389  ...                   0.0                   0.0                   0.0   \n\n        deposit_type_No Deposit  deposit_type_Non Refund  \\\n119385                      1.0                      0.0   \n119386                      1.0                      0.0   \n119387                      1.0                      0.0   \n119388                      1.0                      0.0   \n119389                      1.0                      0.0   \n\n        deposit_type_Refundable  customer_type_Contract  customer_type_Group  \\\n119385                      0.0                     0.0                  0.0   \n119386                      0.0                     0.0                  0.0   \n119387                      0.0                     0.0                  0.0   \n119388                      0.0                     0.0                  0.0   \n119389                      0.0                     0.0                  0.0   \n\n        customer_type_Transient  customer_type_Transient-Party  \n119385                      1.0                            0.0  \n119386                      1.0                            0.0  \n119387                      1.0                            0.0  \n119388                      1.0                            0.0  \n119389                      1.0                            0.0  \n\n[5 rows x 69 columns]",
            "text/html": "<div>\n<style scoped>\n    .dataframe tbody tr th:only-of-type {\n        vertical-align: middle;\n    }\n\n    .dataframe tbody tr th {\n        vertical-align: top;\n    }\n\n    .dataframe thead th {\n        text-align: right;\n    }\n</style>\n<table border=\"1\" class=\"dataframe\">\n  <thead>\n    <tr style=\"text-align: right;\">\n      <th></th>\n      <th>is_canceled</th>\n      <th>lead_time</th>\n      <th>arrival_date_week_number</th>\n      <th>arrival_date_day_of_month</th>\n      <th>stays_in_weekend_nights</th>\n      <th>stays_in_week_nights</th>\n      <th>adults</th>\n      <th>children</th>\n      <th>babies</th>\n      <th>is_repeated_guest</th>\n      <th>...</th>\n      <th>reserved_room_type_H</th>\n      <th>reserved_room_type_L</th>\n      <th>reserved_room_type_P</th>\n      <th>deposit_type_No Deposit</th>\n      <th>deposit_type_Non Refund</th>\n      <th>deposit_type_Refundable</th>\n      <th>customer_type_Contract</th>\n      <th>customer_type_Group</th>\n      <th>customer_type_Transient</th>\n      <th>customer_type_Transient-Party</th>\n    </tr>\n  </thead>\n  <tbody>\n    <tr>\n      <th>119385</th>\n      <td>0.0</td>\n      <td>23.0</td>\n      <td>35.0</td>\n      <td>30.0</td>\n      <td>2.0</td>\n      <td>5.0</td>\n      <td>2.0</td>\n      <td>0.0</td>\n      <td>0.0</td>\n      <td>0.0</td>\n      <td>...</td>\n      <td>0.0</td>\n      <td>0.0</td>\n      <td>0.0</td>\n      <td>1.0</td>\n      <td>0.0</td>\n      <td>0.0</td>\n      <td>0.0</td>\n      <td>0.0</td>\n      <td>1.0</td>\n      <td>0.0</td>\n    </tr>\n    <tr>\n      <th>119386</th>\n      <td>0.0</td>\n      <td>102.0</td>\n      <td>35.0</td>\n      <td>31.0</td>\n      <td>2.0</td>\n      <td>5.0</td>\n      <td>3.0</td>\n      <td>0.0</td>\n      <td>0.0</td>\n      <td>0.0</td>\n      <td>...</td>\n      <td>0.0</td>\n      <td>0.0</td>\n      <td>0.0</td>\n      <td>1.0</td>\n      <td>0.0</td>\n      <td>0.0</td>\n      <td>0.0</td>\n      <td>0.0</td>\n      <td>1.0</td>\n      <td>0.0</td>\n    </tr>\n    <tr>\n      <th>119387</th>\n      <td>0.0</td>\n      <td>34.0</td>\n      <td>35.0</td>\n      <td>31.0</td>\n      <td>2.0</td>\n      <td>5.0</td>\n      <td>2.0</td>\n      <td>0.0</td>\n      <td>0.0</td>\n      <td>0.0</td>\n      <td>...</td>\n      <td>0.0</td>\n      <td>0.0</td>\n      <td>0.0</td>\n      <td>1.0</td>\n      <td>0.0</td>\n      <td>0.0</td>\n      <td>0.0</td>\n      <td>0.0</td>\n      <td>1.0</td>\n      <td>0.0</td>\n    </tr>\n    <tr>\n      <th>119388</th>\n      <td>0.0</td>\n      <td>109.0</td>\n      <td>35.0</td>\n      <td>31.0</td>\n      <td>2.0</td>\n      <td>5.0</td>\n      <td>2.0</td>\n      <td>0.0</td>\n      <td>0.0</td>\n      <td>0.0</td>\n      <td>...</td>\n      <td>0.0</td>\n      <td>0.0</td>\n      <td>0.0</td>\n      <td>1.0</td>\n      <td>0.0</td>\n      <td>0.0</td>\n      <td>0.0</td>\n      <td>0.0</td>\n      <td>1.0</td>\n      <td>0.0</td>\n    </tr>\n    <tr>\n      <th>119389</th>\n      <td>0.0</td>\n      <td>205.0</td>\n      <td>35.0</td>\n      <td>29.0</td>\n      <td>2.0</td>\n      <td>7.0</td>\n      <td>2.0</td>\n      <td>0.0</td>\n      <td>0.0</td>\n      <td>0.0</td>\n      <td>...</td>\n      <td>0.0</td>\n      <td>0.0</td>\n      <td>0.0</td>\n      <td>1.0</td>\n      <td>0.0</td>\n      <td>0.0</td>\n      <td>0.0</td>\n      <td>0.0</td>\n      <td>1.0</td>\n      <td>0.0</td>\n    </tr>\n  </tbody>\n</table>\n<p>5 rows × 69 columns</p>\n</div>"
          },
          "metadata": {}
        }
      ],
      "execution_count": 7,
      "metadata": {
        "jupyter": {
          "source_hidden": false,
          "outputs_hidden": false
        },
        "nteract": {
          "transient": {
            "deleting": false
          }
        },
        "gather": {
          "logged": 1727130642369
        }
      }
    },
    {
      "cell_type": "code",
      "source": [
        "processor.data.children.isna().sum()"
      ],
      "outputs": [
        {
          "output_type": "execute_result",
          "execution_count": 34,
          "data": {
            "text/plain": "0"
          },
          "metadata": {}
        }
      ],
      "execution_count": 34,
      "metadata": {
        "jupyter": {
          "source_hidden": false,
          "outputs_hidden": false
        },
        "nteract": {
          "transient": {
            "deleting": false
          }
        },
        "gather": {
          "logged": 1727127569123
        }
      }
    },
    {
      "cell_type": "code",
      "source": [],
      "outputs": [
        {
          "output_type": "execute_result",
          "execution_count": 35,
          "data": {
            "text/plain": "__main__.DataProcessor"
          },
          "metadata": {}
        }
      ],
      "execution_count": 35,
      "metadata": {
        "jupyter": {
          "source_hidden": false,
          "outputs_hidden": false
        },
        "nteract": {
          "transient": {
            "deleting": false
          }
        },
        "gather": {
          "logged": 1727127859089
        }
      }
    }
  ],
  "metadata": {
    "kernelspec": {
      "name": "dsrp-feautureengineering",
      "language": "python",
      "display_name": "DP-100 feature engineering"
    },
    "language_info": {
      "name": "python",
      "version": "3.9.19",
      "mimetype": "text/x-python",
      "codemirror_mode": {
        "name": "ipython",
        "version": 3
      },
      "pygments_lexer": "ipython3",
      "nbconvert_exporter": "python",
      "file_extension": ".py"
    },
    "microsoft": {
      "ms_spell_check": {
        "ms_spell_check_language": "en"
      },
      "host": {
        "AzureML": {
          "notebookHasBeenCompleted": true
        }
      }
    },
    "kernel_info": {
      "name": "dsrp-feautureengineering"
    },
    "nteract": {
      "version": "nteract-front-end@1.0.0"
    }
  },
  "nbformat": 4,
  "nbformat_minor": 2
}