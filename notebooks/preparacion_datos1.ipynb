{
  "cells": [
    {
      "cell_type": "markdown",
      "source": [
        "# Clase 9 Setiembre - Azure Data Scientist\n",
        "## Preparación de datos 1\n",
        "## Dataset Utilizado: Hotel Booking\n",
        "https://www.kaggle.com/datasets/mojtaba142/hotel-booking/data"
      ],
      "metadata": {
        "nteract": {
          "transient": {
            "deleting": false
          }
        }
      }
    },
    {
      "cell_type": "code",
      "source": [
        "import pandas as pd\n",
        "import matplotlib.pyplot as plt\n",
        "import seaborn as sns\n",
        "from azure.ai.ml import MLClient\n",
        "from azure.identity import DefaultAzureCredential\n",
        "from sklearn.feature_selection import VarianceThreshold\n",
        "\n",
        "# CREDENCIALES AZURE\n",
        "ml_client = MLClient.from_config(credential=DefaultAzureCredential())\n",
        "# METADATA ASSET\n",
        "data_asset = ml_client.data.get(\"booking-dsrp\", version=\"1\")\n",
        "\n",
        "\n",
        "class DataProcessor:\n",
        "\n",
        "    def __init__(self, data: pd.DataFrame):\n",
        "        self.data = data\n",
        "\n",
        "    def process_numeric(self):\n",
        "\n",
        "       num_data = self.data.select_dtypes(include=\"numeric\")\n",
        "\n",
        "       selector = VarianceThreshold(threshold=0.1)\n",
        "       selector.fit(num_data)\n",
        "       return num_data"
      ],
      "outputs": [
        {
          "output_type": "stream",
          "name": "stderr",
          "text": "Found the config file in: /config.json\n"
        }
      ],
      "execution_count": 6,
      "metadata": {
        "jupyter": {
          "source_hidden": false,
          "outputs_hidden": false
        },
        "nteract": {
          "transient": {
            "deleting": false
          }
        },
        "gather": {
          "logged": 1727109447234
        }
      }
    },
    {
      "cell_type": "code",
      "source": [
        "reservas_hotel_raw = pd.read_csv(data_asset.path)\n",
        "reservas_hotel_raw.head(3)"
      ],
      "outputs": [
        {
          "output_type": "execute_result",
          "execution_count": 7,
          "data": {
            "text/plain": "          hotel  is_canceled  lead_time  arrival_date_year arrival_date_month  \\\n0  Resort Hotel            0        342               2015               July   \n1  Resort Hotel            0        737               2015               July   \n2  Resort Hotel            0          7               2015               July   \n\n   arrival_date_week_number  arrival_date_day_of_month  \\\n0                        27                          1   \n1                        27                          1   \n2                        27                          1   \n\n   stays_in_weekend_nights  stays_in_week_nights  adults  ...  customer_type  \\\n0                        0                     0       2  ...      Transient   \n1                        0                     0       2  ...      Transient   \n2                        0                     1       1  ...      Transient   \n\n    adr required_car_parking_spaces total_of_special_requests  \\\n0   0.0                           0                         0   \n1   0.0                           0                         0   \n2  75.0                           0                         0   \n\n  reservation_status reservation_status_date            name  \\\n0          Check-Out              2015-07-01   Ernest Barnes   \n1          Check-Out              2015-07-01    Andrea Baker   \n2          Check-Out              2015-07-02  Rebecca Parker   \n\n                         email  phone-number       credit_card  \n0  Ernest.Barnes31@outlook.com  669-792-1661  ************4322  \n1       Andrea_Baker94@aol.com  858-637-6955  ************9157  \n2   Rebecca_Parker@comcast.net  652-885-2745  ************3734  \n\n[3 rows x 36 columns]",
            "text/html": "<div>\n<style scoped>\n    .dataframe tbody tr th:only-of-type {\n        vertical-align: middle;\n    }\n\n    .dataframe tbody tr th {\n        vertical-align: top;\n    }\n\n    .dataframe thead th {\n        text-align: right;\n    }\n</style>\n<table border=\"1\" class=\"dataframe\">\n  <thead>\n    <tr style=\"text-align: right;\">\n      <th></th>\n      <th>hotel</th>\n      <th>is_canceled</th>\n      <th>lead_time</th>\n      <th>arrival_date_year</th>\n      <th>arrival_date_month</th>\n      <th>arrival_date_week_number</th>\n      <th>arrival_date_day_of_month</th>\n      <th>stays_in_weekend_nights</th>\n      <th>stays_in_week_nights</th>\n      <th>adults</th>\n      <th>...</th>\n      <th>customer_type</th>\n      <th>adr</th>\n      <th>required_car_parking_spaces</th>\n      <th>total_of_special_requests</th>\n      <th>reservation_status</th>\n      <th>reservation_status_date</th>\n      <th>name</th>\n      <th>email</th>\n      <th>phone-number</th>\n      <th>credit_card</th>\n    </tr>\n  </thead>\n  <tbody>\n    <tr>\n      <th>0</th>\n      <td>Resort Hotel</td>\n      <td>0</td>\n      <td>342</td>\n      <td>2015</td>\n      <td>July</td>\n      <td>27</td>\n      <td>1</td>\n      <td>0</td>\n      <td>0</td>\n      <td>2</td>\n      <td>...</td>\n      <td>Transient</td>\n      <td>0.0</td>\n      <td>0</td>\n      <td>0</td>\n      <td>Check-Out</td>\n      <td>2015-07-01</td>\n      <td>Ernest Barnes</td>\n      <td>Ernest.Barnes31@outlook.com</td>\n      <td>669-792-1661</td>\n      <td>************4322</td>\n    </tr>\n    <tr>\n      <th>1</th>\n      <td>Resort Hotel</td>\n      <td>0</td>\n      <td>737</td>\n      <td>2015</td>\n      <td>July</td>\n      <td>27</td>\n      <td>1</td>\n      <td>0</td>\n      <td>0</td>\n      <td>2</td>\n      <td>...</td>\n      <td>Transient</td>\n      <td>0.0</td>\n      <td>0</td>\n      <td>0</td>\n      <td>Check-Out</td>\n      <td>2015-07-01</td>\n      <td>Andrea Baker</td>\n      <td>Andrea_Baker94@aol.com</td>\n      <td>858-637-6955</td>\n      <td>************9157</td>\n    </tr>\n    <tr>\n      <th>2</th>\n      <td>Resort Hotel</td>\n      <td>0</td>\n      <td>7</td>\n      <td>2015</td>\n      <td>July</td>\n      <td>27</td>\n      <td>1</td>\n      <td>0</td>\n      <td>1</td>\n      <td>1</td>\n      <td>...</td>\n      <td>Transient</td>\n      <td>75.0</td>\n      <td>0</td>\n      <td>0</td>\n      <td>Check-Out</td>\n      <td>2015-07-02</td>\n      <td>Rebecca Parker</td>\n      <td>Rebecca_Parker@comcast.net</td>\n      <td>652-885-2745</td>\n      <td>************3734</td>\n    </tr>\n  </tbody>\n</table>\n<p>3 rows × 36 columns</p>\n</div>"
          },
          "metadata": {}
        }
      ],
      "execution_count": 7,
      "metadata": {
        "jupyter": {
          "source_hidden": false,
          "outputs_hidden": false
        },
        "nteract": {
          "transient": {
            "deleting": false
          }
        },
        "gather": {
          "logged": 1727109456083
        }
      }
    },
    {
      "cell_type": "code",
      "source": [
        "reservas_hotel_raw.shape"
      ],
      "outputs": [
        {
          "output_type": "execute_result",
          "execution_count": 7,
          "data": {
            "text/plain": "(119390, 36)"
          },
          "metadata": {}
        }
      ],
      "execution_count": 7,
      "metadata": {
        "jupyter": {
          "source_hidden": false,
          "outputs_hidden": false
        },
        "nteract": {
          "transient": {
            "deleting": false
          }
        },
        "gather": {
          "logged": 1727106214726
        }
      }
    },
    {
      "cell_type": "code",
      "source": [
        "reservas_hotel_raw.info()"
      ],
      "outputs": [
        {
          "output_type": "stream",
          "name": "stdout",
          "text": "<class 'pandas.core.frame.DataFrame'>\nRangeIndex: 119390 entries, 0 to 119389\nData columns (total 36 columns):\n #   Column                          Non-Null Count   Dtype  \n---  ------                          --------------   -----  \n 0   hotel                           119390 non-null  object \n 1   is_canceled                     119390 non-null  int64  \n 2   lead_time                       119390 non-null  int64  \n 3   arrival_date_year               119390 non-null  int64  \n 4   arrival_date_month              119390 non-null  object \n 5   arrival_date_week_number        119390 non-null  int64  \n 6   arrival_date_day_of_month       119390 non-null  int64  \n 7   stays_in_weekend_nights         119390 non-null  int64  \n 8   stays_in_week_nights            119390 non-null  int64  \n 9   adults                          119390 non-null  int64  \n 10  children                        119386 non-null  float64\n 11  babies                          119390 non-null  int64  \n 12  meal                            119390 non-null  object \n 13  country                         118902 non-null  object \n 14  market_segment                  119390 non-null  object \n 15  distribution_channel            119390 non-null  object \n 16  is_repeated_guest               119390 non-null  int64  \n 17  previous_cancellations          119390 non-null  int64  \n 18  previous_bookings_not_canceled  119390 non-null  int64  \n 19  reserved_room_type              119390 non-null  object \n 20  assigned_room_type              119390 non-null  object \n 21  booking_changes                 119390 non-null  int64  \n 22  deposit_type                    119390 non-null  object \n 23  agent                           103050 non-null  float64\n 24  company                         6797 non-null    float64\n 25  days_in_waiting_list            119390 non-null  int64  \n 26  customer_type                   119390 non-null  object \n 27  adr                             119390 non-null  float64\n 28  required_car_parking_spaces     119390 non-null  int64  \n 29  total_of_special_requests       119390 non-null  int64  \n 30  reservation_status              119390 non-null  object \n 31  reservation_status_date         119390 non-null  object \n 32  name                            119390 non-null  object \n 33  email                           119390 non-null  object \n 34  phone-number                    119390 non-null  object \n 35  credit_card                     119390 non-null  object \ndtypes: float64(4), int64(16), object(16)\nmemory usage: 32.8+ MB\n"
        }
      ],
      "execution_count": 8,
      "metadata": {
        "jupyter": {
          "source_hidden": false,
          "outputs_hidden": false
        },
        "nteract": {
          "transient": {
            "deleting": false
          }
        },
        "gather": {
          "logged": 1727106218380
        }
      }
    },
    {
      "cell_type": "markdown",
      "source": [
        "## Exploración Inicial"
      ],
      "metadata": {
        "nteract": {
          "transient": {
            "deleting": false
          }
        }
      }
    },
    {
      "cell_type": "code",
      "source": [
        "reservas_hotel_raw.describe(include='object').T"
      ],
      "outputs": [
        {
          "output_type": "execute_result",
          "execution_count": 10,
          "data": {
            "text/plain": "                          count  unique                  top    freq\nhotel                    119390       2           City Hotel   79330\narrival_date_month       119390      12               August   13877\nmeal                     119390       5                   BB   92310\ncountry                  118902     177                  PRT   48590\nmarket_segment           119390       8            Online TA   56477\ndistribution_channel     119390       5                TA/TO   97870\nreserved_room_type       119390      10                    A   85994\nassigned_room_type       119390      12                    A   74053\ndeposit_type             119390       3           No Deposit  104641\ncustomer_type            119390       4            Transient   89613\nreservation_status       119390       3            Check-Out   75166\nreservation_status_date  119390     926           2015-10-21    1461\nname                     119390   81503      Michael Johnson      48\nemail                    119390  115889  Michael.C@gmail.com       6\nphone-number             119390  119390         669-792-1661       1\ncredit_card              119390    9000     ************4923      28",
            "text/html": "<div>\n<style scoped>\n    .dataframe tbody tr th:only-of-type {\n        vertical-align: middle;\n    }\n\n    .dataframe tbody tr th {\n        vertical-align: top;\n    }\n\n    .dataframe thead th {\n        text-align: right;\n    }\n</style>\n<table border=\"1\" class=\"dataframe\">\n  <thead>\n    <tr style=\"text-align: right;\">\n      <th></th>\n      <th>count</th>\n      <th>unique</th>\n      <th>top</th>\n      <th>freq</th>\n    </tr>\n  </thead>\n  <tbody>\n    <tr>\n      <th>hotel</th>\n      <td>119390</td>\n      <td>2</td>\n      <td>City Hotel</td>\n      <td>79330</td>\n    </tr>\n    <tr>\n      <th>arrival_date_month</th>\n      <td>119390</td>\n      <td>12</td>\n      <td>August</td>\n      <td>13877</td>\n    </tr>\n    <tr>\n      <th>meal</th>\n      <td>119390</td>\n      <td>5</td>\n      <td>BB</td>\n      <td>92310</td>\n    </tr>\n    <tr>\n      <th>country</th>\n      <td>118902</td>\n      <td>177</td>\n      <td>PRT</td>\n      <td>48590</td>\n    </tr>\n    <tr>\n      <th>market_segment</th>\n      <td>119390</td>\n      <td>8</td>\n      <td>Online TA</td>\n      <td>56477</td>\n    </tr>\n    <tr>\n      <th>distribution_channel</th>\n      <td>119390</td>\n      <td>5</td>\n      <td>TA/TO</td>\n      <td>97870</td>\n    </tr>\n    <tr>\n      <th>reserved_room_type</th>\n      <td>119390</td>\n      <td>10</td>\n      <td>A</td>\n      <td>85994</td>\n    </tr>\n    <tr>\n      <th>assigned_room_type</th>\n      <td>119390</td>\n      <td>12</td>\n      <td>A</td>\n      <td>74053</td>\n    </tr>\n    <tr>\n      <th>deposit_type</th>\n      <td>119390</td>\n      <td>3</td>\n      <td>No Deposit</td>\n      <td>104641</td>\n    </tr>\n    <tr>\n      <th>customer_type</th>\n      <td>119390</td>\n      <td>4</td>\n      <td>Transient</td>\n      <td>89613</td>\n    </tr>\n    <tr>\n      <th>reservation_status</th>\n      <td>119390</td>\n      <td>3</td>\n      <td>Check-Out</td>\n      <td>75166</td>\n    </tr>\n    <tr>\n      <th>reservation_status_date</th>\n      <td>119390</td>\n      <td>926</td>\n      <td>2015-10-21</td>\n      <td>1461</td>\n    </tr>\n    <tr>\n      <th>name</th>\n      <td>119390</td>\n      <td>81503</td>\n      <td>Michael Johnson</td>\n      <td>48</td>\n    </tr>\n    <tr>\n      <th>email</th>\n      <td>119390</td>\n      <td>115889</td>\n      <td>Michael.C@gmail.com</td>\n      <td>6</td>\n    </tr>\n    <tr>\n      <th>phone-number</th>\n      <td>119390</td>\n      <td>119390</td>\n      <td>669-792-1661</td>\n      <td>1</td>\n    </tr>\n    <tr>\n      <th>credit_card</th>\n      <td>119390</td>\n      <td>9000</td>\n      <td>************4923</td>\n      <td>28</td>\n    </tr>\n  </tbody>\n</table>\n</div>"
          },
          "metadata": {}
        }
      ],
      "execution_count": 10,
      "metadata": {
        "jupyter": {
          "source_hidden": false,
          "outputs_hidden": false
        },
        "nteract": {
          "transient": {
            "deleting": false
          }
        },
        "gather": {
          "logged": 1727106263285
        }
      }
    },
    {
      "cell_type": "code",
      "source": [
        "reservas_hotel_raw.describe(include='int').T"
      ],
      "outputs": [
        {
          "output_type": "execute_result",
          "execution_count": 11,
          "data": {
            "text/plain": "                                   count         mean         std     min  \\\nis_canceled                     119390.0     0.370416    0.482918     0.0   \nlead_time                       119390.0   104.011416  106.863097     0.0   \narrival_date_year               119390.0  2016.156554    0.707476  2015.0   \narrival_date_week_number        119390.0    27.165173   13.605138     1.0   \narrival_date_day_of_month       119390.0    15.798241    8.780829     1.0   \nstays_in_weekend_nights         119390.0     0.927599    0.998613     0.0   \nstays_in_week_nights            119390.0     2.500302    1.908286     0.0   \nadults                          119390.0     1.856403    0.579261     0.0   \nbabies                          119390.0     0.007949    0.097436     0.0   \nis_repeated_guest               119390.0     0.031912    0.175767     0.0   \nprevious_cancellations          119390.0     0.087118    0.844336     0.0   \nprevious_bookings_not_canceled  119390.0     0.137097    1.497437     0.0   \nbooking_changes                 119390.0     0.221124    0.652306     0.0   \ndays_in_waiting_list            119390.0     2.321149   17.594721     0.0   \nrequired_car_parking_spaces     119390.0     0.062518    0.245291     0.0   \ntotal_of_special_requests       119390.0     0.571363    0.792798     0.0   \n\n                                   25%     50%     75%     max  \nis_canceled                        0.0     0.0     1.0     1.0  \nlead_time                         18.0    69.0   160.0   737.0  \narrival_date_year               2016.0  2016.0  2017.0  2017.0  \narrival_date_week_number          16.0    28.0    38.0    53.0  \narrival_date_day_of_month          8.0    16.0    23.0    31.0  \nstays_in_weekend_nights            0.0     1.0     2.0    19.0  \nstays_in_week_nights               1.0     2.0     3.0    50.0  \nadults                             2.0     2.0     2.0    55.0  \nbabies                             0.0     0.0     0.0    10.0  \nis_repeated_guest                  0.0     0.0     0.0     1.0  \nprevious_cancellations             0.0     0.0     0.0    26.0  \nprevious_bookings_not_canceled     0.0     0.0     0.0    72.0  \nbooking_changes                    0.0     0.0     0.0    21.0  \ndays_in_waiting_list               0.0     0.0     0.0   391.0  \nrequired_car_parking_spaces        0.0     0.0     0.0     8.0  \ntotal_of_special_requests          0.0     0.0     1.0     5.0  ",
            "text/html": "<div>\n<style scoped>\n    .dataframe tbody tr th:only-of-type {\n        vertical-align: middle;\n    }\n\n    .dataframe tbody tr th {\n        vertical-align: top;\n    }\n\n    .dataframe thead th {\n        text-align: right;\n    }\n</style>\n<table border=\"1\" class=\"dataframe\">\n  <thead>\n    <tr style=\"text-align: right;\">\n      <th></th>\n      <th>count</th>\n      <th>mean</th>\n      <th>std</th>\n      <th>min</th>\n      <th>25%</th>\n      <th>50%</th>\n      <th>75%</th>\n      <th>max</th>\n    </tr>\n  </thead>\n  <tbody>\n    <tr>\n      <th>is_canceled</th>\n      <td>119390.0</td>\n      <td>0.370416</td>\n      <td>0.482918</td>\n      <td>0.0</td>\n      <td>0.0</td>\n      <td>0.0</td>\n      <td>1.0</td>\n      <td>1.0</td>\n    </tr>\n    <tr>\n      <th>lead_time</th>\n      <td>119390.0</td>\n      <td>104.011416</td>\n      <td>106.863097</td>\n      <td>0.0</td>\n      <td>18.0</td>\n      <td>69.0</td>\n      <td>160.0</td>\n      <td>737.0</td>\n    </tr>\n    <tr>\n      <th>arrival_date_year</th>\n      <td>119390.0</td>\n      <td>2016.156554</td>\n      <td>0.707476</td>\n      <td>2015.0</td>\n      <td>2016.0</td>\n      <td>2016.0</td>\n      <td>2017.0</td>\n      <td>2017.0</td>\n    </tr>\n    <tr>\n      <th>arrival_date_week_number</th>\n      <td>119390.0</td>\n      <td>27.165173</td>\n      <td>13.605138</td>\n      <td>1.0</td>\n      <td>16.0</td>\n      <td>28.0</td>\n      <td>38.0</td>\n      <td>53.0</td>\n    </tr>\n    <tr>\n      <th>arrival_date_day_of_month</th>\n      <td>119390.0</td>\n      <td>15.798241</td>\n      <td>8.780829</td>\n      <td>1.0</td>\n      <td>8.0</td>\n      <td>16.0</td>\n      <td>23.0</td>\n      <td>31.0</td>\n    </tr>\n    <tr>\n      <th>stays_in_weekend_nights</th>\n      <td>119390.0</td>\n      <td>0.927599</td>\n      <td>0.998613</td>\n      <td>0.0</td>\n      <td>0.0</td>\n      <td>1.0</td>\n      <td>2.0</td>\n      <td>19.0</td>\n    </tr>\n    <tr>\n      <th>stays_in_week_nights</th>\n      <td>119390.0</td>\n      <td>2.500302</td>\n      <td>1.908286</td>\n      <td>0.0</td>\n      <td>1.0</td>\n      <td>2.0</td>\n      <td>3.0</td>\n      <td>50.0</td>\n    </tr>\n    <tr>\n      <th>adults</th>\n      <td>119390.0</td>\n      <td>1.856403</td>\n      <td>0.579261</td>\n      <td>0.0</td>\n      <td>2.0</td>\n      <td>2.0</td>\n      <td>2.0</td>\n      <td>55.0</td>\n    </tr>\n    <tr>\n      <th>babies</th>\n      <td>119390.0</td>\n      <td>0.007949</td>\n      <td>0.097436</td>\n      <td>0.0</td>\n      <td>0.0</td>\n      <td>0.0</td>\n      <td>0.0</td>\n      <td>10.0</td>\n    </tr>\n    <tr>\n      <th>is_repeated_guest</th>\n      <td>119390.0</td>\n      <td>0.031912</td>\n      <td>0.175767</td>\n      <td>0.0</td>\n      <td>0.0</td>\n      <td>0.0</td>\n      <td>0.0</td>\n      <td>1.0</td>\n    </tr>\n    <tr>\n      <th>previous_cancellations</th>\n      <td>119390.0</td>\n      <td>0.087118</td>\n      <td>0.844336</td>\n      <td>0.0</td>\n      <td>0.0</td>\n      <td>0.0</td>\n      <td>0.0</td>\n      <td>26.0</td>\n    </tr>\n    <tr>\n      <th>previous_bookings_not_canceled</th>\n      <td>119390.0</td>\n      <td>0.137097</td>\n      <td>1.497437</td>\n      <td>0.0</td>\n      <td>0.0</td>\n      <td>0.0</td>\n      <td>0.0</td>\n      <td>72.0</td>\n    </tr>\n    <tr>\n      <th>booking_changes</th>\n      <td>119390.0</td>\n      <td>0.221124</td>\n      <td>0.652306</td>\n      <td>0.0</td>\n      <td>0.0</td>\n      <td>0.0</td>\n      <td>0.0</td>\n      <td>21.0</td>\n    </tr>\n    <tr>\n      <th>days_in_waiting_list</th>\n      <td>119390.0</td>\n      <td>2.321149</td>\n      <td>17.594721</td>\n      <td>0.0</td>\n      <td>0.0</td>\n      <td>0.0</td>\n      <td>0.0</td>\n      <td>391.0</td>\n    </tr>\n    <tr>\n      <th>required_car_parking_spaces</th>\n      <td>119390.0</td>\n      <td>0.062518</td>\n      <td>0.245291</td>\n      <td>0.0</td>\n      <td>0.0</td>\n      <td>0.0</td>\n      <td>0.0</td>\n      <td>8.0</td>\n    </tr>\n    <tr>\n      <th>total_of_special_requests</th>\n      <td>119390.0</td>\n      <td>0.571363</td>\n      <td>0.792798</td>\n      <td>0.0</td>\n      <td>0.0</td>\n      <td>0.0</td>\n      <td>1.0</td>\n      <td>5.0</td>\n    </tr>\n  </tbody>\n</table>\n</div>"
          },
          "metadata": {}
        }
      ],
      "execution_count": 11,
      "metadata": {
        "jupyter": {
          "source_hidden": false,
          "outputs_hidden": false
        },
        "nteract": {
          "transient": {
            "deleting": false
          }
        },
        "gather": {
          "logged": 1727106281499
        }
      }
    },
    {
      "cell_type": "code",
      "source": [
        "reservas_hotel_raw.describe(include='float').T"
      ],
      "outputs": [
        {
          "output_type": "execute_result",
          "execution_count": 13,
          "data": {
            "text/plain": "             count        mean         std   min    25%      50%    75%  \\\nchildren  119386.0    0.103890    0.398561  0.00   0.00    0.000    0.0   \nagent     103050.0   86.693382  110.774548  1.00   9.00   14.000  229.0   \ncompany     6797.0  189.266735  131.655015  6.00  62.00  179.000  270.0   \nadr       119390.0  101.831122   50.535790 -6.38  69.29   94.575  126.0   \n\n             max  \nchildren    10.0  \nagent      535.0  \ncompany    543.0  \nadr       5400.0  ",
            "text/html": "<div>\n<style scoped>\n    .dataframe tbody tr th:only-of-type {\n        vertical-align: middle;\n    }\n\n    .dataframe tbody tr th {\n        vertical-align: top;\n    }\n\n    .dataframe thead th {\n        text-align: right;\n    }\n</style>\n<table border=\"1\" class=\"dataframe\">\n  <thead>\n    <tr style=\"text-align: right;\">\n      <th></th>\n      <th>count</th>\n      <th>mean</th>\n      <th>std</th>\n      <th>min</th>\n      <th>25%</th>\n      <th>50%</th>\n      <th>75%</th>\n      <th>max</th>\n    </tr>\n  </thead>\n  <tbody>\n    <tr>\n      <th>children</th>\n      <td>119386.0</td>\n      <td>0.103890</td>\n      <td>0.398561</td>\n      <td>0.00</td>\n      <td>0.00</td>\n      <td>0.000</td>\n      <td>0.0</td>\n      <td>10.0</td>\n    </tr>\n    <tr>\n      <th>agent</th>\n      <td>103050.0</td>\n      <td>86.693382</td>\n      <td>110.774548</td>\n      <td>1.00</td>\n      <td>9.00</td>\n      <td>14.000</td>\n      <td>229.0</td>\n      <td>535.0</td>\n    </tr>\n    <tr>\n      <th>company</th>\n      <td>6797.0</td>\n      <td>189.266735</td>\n      <td>131.655015</td>\n      <td>6.00</td>\n      <td>62.00</td>\n      <td>179.000</td>\n      <td>270.0</td>\n      <td>543.0</td>\n    </tr>\n    <tr>\n      <th>adr</th>\n      <td>119390.0</td>\n      <td>101.831122</td>\n      <td>50.535790</td>\n      <td>-6.38</td>\n      <td>69.29</td>\n      <td>94.575</td>\n      <td>126.0</td>\n      <td>5400.0</td>\n    </tr>\n  </tbody>\n</table>\n</div>"
          },
          "metadata": {}
        }
      ],
      "execution_count": 13,
      "metadata": {
        "jupyter": {
          "source_hidden": false,
          "outputs_hidden": false
        },
        "nteract": {
          "transient": {
            "deleting": false
          }
        },
        "gather": {
          "logged": 1727107452307
        }
      }
    },
    {
      "cell_type": "markdown",
      "source": [
        "## EDA: Exploratory data analysis"
      ],
      "metadata": {
        "nteract": {
          "transient": {
            "deleting": false
          }
        }
      }
    },
    {
      "cell_type": "code",
      "source": [
        "reservas_hotel_raw['lead_time'].hist()"
      ],
      "outputs": [
        {
          "output_type": "execute_result",
          "execution_count": 9,
          "data": {
            "text/plain": "<Axes: >"
          },
          "metadata": {}
        },
        {
          "output_type": "display_data",
          "data": {
            "text/plain": "<Figure size 640x480 with 1 Axes>",
            "image/png": "[encoded data removed]"
          },
          "metadata": {}
        }
      ],
      "execution_count": 9,
      "metadata": {
        "jupyter": {
          "source_hidden": false,
          "outputs_hidden": false
        },
        "nteract": {
          "transient": {
            "deleting": false
          }
        },
        "gather": {
          "logged": 1727109561645
        }
      }
    },
    {
      "cell_type": "code",
      "source": [],
      "outputs": [],
      "execution_count": null,
      "metadata": {
        "jupyter": {
          "source_hidden": false,
          "outputs_hidden": false
        },
        "nteract": {
          "transient": {
            "deleting": false
          }
        }
      }
    }
  ],
  "metadata": {
    "kernelspec": {
      "name": "python310-sdkv2",
      "language": "python",
      "display_name": "Python 3.10 - SDK v2"
    },
    "language_info": {
      "name": "python",
      "version": "3.10.14",
      "mimetype": "text/x-python",
      "codemirror_mode": {
        "name": "ipython",
        "version": 3
      },
      "pygments_lexer": "ipython3",
      "nbconvert_exporter": "python",
      "file_extension": ".py"
    },
    "microsoft": {
      "ms_spell_check": {
        "ms_spell_check_language": "en"
      },
      "host": {
        "AzureML": {
          "notebookHasBeenCompleted": true
        }
      }
    },
    "kernel_info": {
      "name": "python310-sdkv2"
    },
    "nteract": {
      "version": "nteract-front-end@1.0.0"
    }
  },
  "nbformat": 4,
  "nbformat_minor": 2
}